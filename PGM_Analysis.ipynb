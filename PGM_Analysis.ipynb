{
  "nbformat": 4,
  "nbformat_minor": 0,
  "metadata": {
    "kernelspec": {
      "display_name": "Python 3",
      "language": "python",
      "name": "python3"
    },
    "language_info": {
      "codemirror_mode": {
        "name": "ipython",
        "version": 3
      },
      "file_extension": ".py",
      "mimetype": "text/x-python",
      "name": "python",
      "nbconvert_exporter": "python",
      "pygments_lexer": "ipython3",
      "version": "3.7.2"
    },
    "colab": {
      "name": "PGM_HW1.ipynb",
      "provenance": []
    }
  },
  "cells": [
    {
      "cell_type": "markdown",
      "metadata": {
        "id": "1O0tDJxZio5V"
      },
      "source": [
        "\n",
        "\n",
        "\n",
        "<p style=\"font-family:Times New Roman;font-size:20px\"><b>Dataset :</b> Participant Information of overweight breast cancer survivors</p>\n",
        "<p style=\"font-family:Times New Roman;font-size:20px\"><b>Aim :</b> To model interrelationships between health behaviors and habits concluding to a Bayesian Network</p>\n",
        "<p style=\"font-family:Times New Roman;font-size:20px\">The dataset contains following variables:</p>\n",
        "<ul style=\"font-family:Times New Roman ; font-size:15px\">\n",
        "    <li><b>PraticipantNumber</b></li>\n",
        "    <li><b>TumorStage</b> -  Participants’ medical records including tumor characteristics</li>\n",
        "    <li><b>Neighborhood</b> - The Neighborhood Environment Index (Neighborhood) was used to measure walkability. It has a range from 0 to 6, with higher scores indicating more walkable neighborhood</li>\n",
        "    <li><b>Alochol</b> - The monthly intake of alcohol</li>\n",
        "    <li><b>Smoke</b> - Two level factor with Yes or No</li>\n",
        "    <li><b>Insomnia</b> - Two level factor with Yes or No</li>\n",
        "    <li><b>Depression</b> - Two level factor with Yes or No</li>\n",
        "    <li><b>Education</b> - Place of Education(No use in analysis)</li>\n",
        "    <li><b>Sleep1</b> - Refers to sleep disturbance. Normed to mean 50 with standard deviation of 10. Higher scores indicate worse sleep</li>\n",
        "    <li><b>Sleep2</b> - Sleep impairment. Normed to mean 50 with standard deviation of 10.</li>\n",
        "    <li><b>QOLp</b> - Quality of life (Physical). Uses SF-36 scale.Range is 0-100. Higher the score better is life style.</li>\n",
        "    <li><b>QOLm</b> - Quality of life (Mental). Uses SF-36 scale.Range is 0-100. Higher the score better is life style. </li>\n",
        "    <li><b>Arthritis</b> - Two level factor with Yes or No</li>\n",
        "    <li><b>Insulin</b> - Ranges from 5-8 U/ml</li>\n",
        "    <li><b>CRP</b> - C-reactive protein. Range 12-16</li>\n",
        "    <li><b>Age</b> - Ranges from 0-120</li>\n",
        "    <li><b>PA</b> - PA was the average (across days) of total counts per minute per day, thus representing a measure that captured total volume of activity</li>\n",
        "    <li><b>BMI</b> - Body Mass Index (kg/m^2)</li>\n",
        "\n",
        "</ul>"
      ]
    },
    {
      "cell_type": "code",
      "metadata": {
        "id": "IKr7gMExio5Y"
      },
      "source": [
        "import numpy as np\n",
        "import pandas as pd\n",
        "import matplotlib.pyplot as plt\n",
        "from pgmpy.models import BayesianModel\n",
        "from pgmpy.estimators import MaximumLikelihoodEstimator\n",
        "from pgmpy.inference import VariableElimination\n",
        "import networkx as nx"
      ],
      "execution_count": null,
      "outputs": []
    },
    {
      "cell_type": "code",
      "metadata": {
        "id": "EpWEyJi7io5h",
        "outputId": "014ee732-a0db-4299-86b8-db18c3a73f38"
      },
      "source": [
        "data = pd.read_csv('Downloads/dataset.csv')\n",
        "data.head()"
      ],
      "execution_count": null,
      "outputs": [
        {
          "output_type": "execute_result",
          "data": {
            "text/html": [
              "<div>\n",
              "<style scoped>\n",
              "    .dataframe tbody tr th:only-of-type {\n",
              "        vertical-align: middle;\n",
              "    }\n",
              "\n",
              "    .dataframe tbody tr th {\n",
              "        vertical-align: top;\n",
              "    }\n",
              "\n",
              "    .dataframe thead th {\n",
              "        text-align: right;\n",
              "    }\n",
              "</style>\n",
              "<table border=\"1\" class=\"dataframe\">\n",
              "  <thead>\n",
              "    <tr style=\"text-align: right;\">\n",
              "      <th></th>\n",
              "      <th>ParticipantNumber</th>\n",
              "      <th>TumorStage</th>\n",
              "      <th>Neighborhood</th>\n",
              "      <th>Alcohol</th>\n",
              "      <th>Smoke</th>\n",
              "      <th>Insomnia</th>\n",
              "      <th>Depression</th>\n",
              "      <th>Education</th>\n",
              "      <th>Sleep1</th>\n",
              "      <th>Sleep2</th>\n",
              "      <th>QOLp</th>\n",
              "      <th>QOLm</th>\n",
              "      <th>Arthritis</th>\n",
              "      <th>Insulin</th>\n",
              "      <th>CRP</th>\n",
              "      <th>PA</th>\n",
              "      <th>BMI</th>\n",
              "      <th>Age</th>\n",
              "    </tr>\n",
              "  </thead>\n",
              "  <tbody>\n",
              "    <tr>\n",
              "      <th>0</th>\n",
              "      <td>1</td>\n",
              "      <td>Stage 2</td>\n",
              "      <td>4</td>\n",
              "      <td>8.25</td>\n",
              "      <td>No</td>\n",
              "      <td>No</td>\n",
              "      <td>No</td>\n",
              "      <td>Postgraduate school or degree</td>\n",
              "      <td>44.2</td>\n",
              "      <td>38.7</td>\n",
              "      <td>86.875</td>\n",
              "      <td>93.250000</td>\n",
              "      <td>No</td>\n",
              "      <td>6.620323</td>\n",
              "      <td>14.662970</td>\n",
              "      <td>248.645687</td>\n",
              "      <td>29.387755</td>\n",
              "      <td>53</td>\n",
              "    </tr>\n",
              "    <tr>\n",
              "      <th>1</th>\n",
              "      <td>2</td>\n",
              "      <td>Stage 1</td>\n",
              "      <td>1</td>\n",
              "      <td>17.00</td>\n",
              "      <td>No</td>\n",
              "      <td>No</td>\n",
              "      <td>Yes</td>\n",
              "      <td>Some college,  technical school or Associate D...</td>\n",
              "      <td>51.2</td>\n",
              "      <td>43.6</td>\n",
              "      <td>76.250</td>\n",
              "      <td>81.625000</td>\n",
              "      <td>Yes</td>\n",
              "      <td>6.588302</td>\n",
              "      <td>15.086824</td>\n",
              "      <td>241.912148</td>\n",
              "      <td>28.398718</td>\n",
              "      <td>67</td>\n",
              "    </tr>\n",
              "    <tr>\n",
              "      <th>2</th>\n",
              "      <td>3</td>\n",
              "      <td>Stage 1</td>\n",
              "      <td>2</td>\n",
              "      <td>25.50</td>\n",
              "      <td>No</td>\n",
              "      <td>No</td>\n",
              "      <td>No</td>\n",
              "      <td>Postgraduate school or degree</td>\n",
              "      <td>35.9</td>\n",
              "      <td>38.7</td>\n",
              "      <td>58.750</td>\n",
              "      <td>79.625000</td>\n",
              "      <td>No</td>\n",
              "      <td>5.773663</td>\n",
              "      <td>16.045979</td>\n",
              "      <td>408.521245</td>\n",
              "      <td>20.077335</td>\n",
              "      <td>54</td>\n",
              "    </tr>\n",
              "    <tr>\n",
              "      <th>3</th>\n",
              "      <td>4</td>\n",
              "      <td>Stage 3</td>\n",
              "      <td>3</td>\n",
              "      <td>0.00</td>\n",
              "      <td>No</td>\n",
              "      <td>No</td>\n",
              "      <td>Yes</td>\n",
              "      <td>Some college,  technical school or Associate D...</td>\n",
              "      <td>56.3</td>\n",
              "      <td>52.9</td>\n",
              "      <td>26.875</td>\n",
              "      <td>37.958333</td>\n",
              "      <td>No</td>\n",
              "      <td>6.898928</td>\n",
              "      <td>16.312136</td>\n",
              "      <td>177.601267</td>\n",
              "      <td>26.838648</td>\n",
              "      <td>66</td>\n",
              "    </tr>\n",
              "    <tr>\n",
              "      <th>4</th>\n",
              "      <td>5</td>\n",
              "      <td>Stage 2</td>\n",
              "      <td>4</td>\n",
              "      <td>10.25</td>\n",
              "      <td>Yes</td>\n",
              "      <td>Yes</td>\n",
              "      <td>Yes</td>\n",
              "      <td>Some college,  technical school or Associate D...</td>\n",
              "      <td>62.6</td>\n",
              "      <td>56.1</td>\n",
              "      <td>76.250</td>\n",
              "      <td>82.250000</td>\n",
              "      <td>Yes</td>\n",
              "      <td>5.349781</td>\n",
              "      <td>12.376667</td>\n",
              "      <td>142.443154</td>\n",
              "      <td>37.165193</td>\n",
              "      <td>50</td>\n",
              "    </tr>\n",
              "  </tbody>\n",
              "</table>\n",
              "</div>"
            ],
            "text/plain": [
              "   ParticipantNumber TumorStage  Neighborhood  Alcohol Smoke Insomnia  \\\n",
              "0                  1    Stage 2             4     8.25    No       No   \n",
              "1                  2    Stage 1             1    17.00    No       No   \n",
              "2                  3    Stage 1             2    25.50    No       No   \n",
              "3                  4    Stage 3             3     0.00    No       No   \n",
              "4                  5    Stage 2             4    10.25   Yes      Yes   \n",
              "\n",
              "  Depression                                          Education  Sleep1  \\\n",
              "0         No                      Postgraduate school or degree    44.2   \n",
              "1        Yes  Some college,  technical school or Associate D...    51.2   \n",
              "2         No                      Postgraduate school or degree    35.9   \n",
              "3        Yes  Some college,  technical school or Associate D...    56.3   \n",
              "4        Yes  Some college,  technical school or Associate D...    62.6   \n",
              "\n",
              "   Sleep2    QOLp       QOLm Arthritis   Insulin        CRP          PA  \\\n",
              "0    38.7  86.875  93.250000        No  6.620323  14.662970  248.645687   \n",
              "1    43.6  76.250  81.625000       Yes  6.588302  15.086824  241.912148   \n",
              "2    38.7  58.750  79.625000        No  5.773663  16.045979  408.521245   \n",
              "3    52.9  26.875  37.958333        No  6.898928  16.312136  177.601267   \n",
              "4    56.1  76.250  82.250000       Yes  5.349781  12.376667  142.443154   \n",
              "\n",
              "         BMI  Age  \n",
              "0  29.387755   53  \n",
              "1  28.398718   67  \n",
              "2  20.077335   54  \n",
              "3  26.838648   66  \n",
              "4  37.165193   50  "
            ]
          },
          "metadata": {
            "tags": []
          },
          "execution_count": 53
        }
      ]
    },
    {
      "cell_type": "code",
      "metadata": {
        "id": "B0PPJE9Xio5s",
        "outputId": "6774c2dc-ee60-4aa9-f7bd-67b9625a47c9"
      },
      "source": [
        "data.replace({'Yes':1,'No':0}, inplace=True)\n",
        "data.head()"
      ],
      "execution_count": null,
      "outputs": [
        {
          "output_type": "execute_result",
          "data": {
            "text/html": [
              "<div>\n",
              "<style scoped>\n",
              "    .dataframe tbody tr th:only-of-type {\n",
              "        vertical-align: middle;\n",
              "    }\n",
              "\n",
              "    .dataframe tbody tr th {\n",
              "        vertical-align: top;\n",
              "    }\n",
              "\n",
              "    .dataframe thead th {\n",
              "        text-align: right;\n",
              "    }\n",
              "</style>\n",
              "<table border=\"1\" class=\"dataframe\">\n",
              "  <thead>\n",
              "    <tr style=\"text-align: right;\">\n",
              "      <th></th>\n",
              "      <th>ParticipantNumber</th>\n",
              "      <th>TumorStage</th>\n",
              "      <th>Neighborhood</th>\n",
              "      <th>Alcohol</th>\n",
              "      <th>Smoke</th>\n",
              "      <th>Insomnia</th>\n",
              "      <th>Depression</th>\n",
              "      <th>Education</th>\n",
              "      <th>Sleep1</th>\n",
              "      <th>Sleep2</th>\n",
              "      <th>QOLp</th>\n",
              "      <th>QOLm</th>\n",
              "      <th>Arthritis</th>\n",
              "      <th>Insulin</th>\n",
              "      <th>CRP</th>\n",
              "      <th>PA</th>\n",
              "      <th>BMI</th>\n",
              "      <th>Age</th>\n",
              "    </tr>\n",
              "  </thead>\n",
              "  <tbody>\n",
              "    <tr>\n",
              "      <th>0</th>\n",
              "      <td>1</td>\n",
              "      <td>Stage 2</td>\n",
              "      <td>4</td>\n",
              "      <td>8.25</td>\n",
              "      <td>0</td>\n",
              "      <td>0</td>\n",
              "      <td>0</td>\n",
              "      <td>Postgraduate school or degree</td>\n",
              "      <td>44.2</td>\n",
              "      <td>38.7</td>\n",
              "      <td>86.875</td>\n",
              "      <td>93.250000</td>\n",
              "      <td>0</td>\n",
              "      <td>6.620323</td>\n",
              "      <td>14.662970</td>\n",
              "      <td>248.645687</td>\n",
              "      <td>29.387755</td>\n",
              "      <td>53</td>\n",
              "    </tr>\n",
              "    <tr>\n",
              "      <th>1</th>\n",
              "      <td>2</td>\n",
              "      <td>Stage 1</td>\n",
              "      <td>1</td>\n",
              "      <td>17.00</td>\n",
              "      <td>0</td>\n",
              "      <td>0</td>\n",
              "      <td>1</td>\n",
              "      <td>Some college,  technical school or Associate D...</td>\n",
              "      <td>51.2</td>\n",
              "      <td>43.6</td>\n",
              "      <td>76.250</td>\n",
              "      <td>81.625000</td>\n",
              "      <td>1</td>\n",
              "      <td>6.588302</td>\n",
              "      <td>15.086824</td>\n",
              "      <td>241.912148</td>\n",
              "      <td>28.398718</td>\n",
              "      <td>67</td>\n",
              "    </tr>\n",
              "    <tr>\n",
              "      <th>2</th>\n",
              "      <td>3</td>\n",
              "      <td>Stage 1</td>\n",
              "      <td>2</td>\n",
              "      <td>25.50</td>\n",
              "      <td>0</td>\n",
              "      <td>0</td>\n",
              "      <td>0</td>\n",
              "      <td>Postgraduate school or degree</td>\n",
              "      <td>35.9</td>\n",
              "      <td>38.7</td>\n",
              "      <td>58.750</td>\n",
              "      <td>79.625000</td>\n",
              "      <td>0</td>\n",
              "      <td>5.773663</td>\n",
              "      <td>16.045979</td>\n",
              "      <td>408.521245</td>\n",
              "      <td>20.077335</td>\n",
              "      <td>54</td>\n",
              "    </tr>\n",
              "    <tr>\n",
              "      <th>3</th>\n",
              "      <td>4</td>\n",
              "      <td>Stage 3</td>\n",
              "      <td>3</td>\n",
              "      <td>0.00</td>\n",
              "      <td>0</td>\n",
              "      <td>0</td>\n",
              "      <td>1</td>\n",
              "      <td>Some college,  technical school or Associate D...</td>\n",
              "      <td>56.3</td>\n",
              "      <td>52.9</td>\n",
              "      <td>26.875</td>\n",
              "      <td>37.958333</td>\n",
              "      <td>0</td>\n",
              "      <td>6.898928</td>\n",
              "      <td>16.312136</td>\n",
              "      <td>177.601267</td>\n",
              "      <td>26.838648</td>\n",
              "      <td>66</td>\n",
              "    </tr>\n",
              "    <tr>\n",
              "      <th>4</th>\n",
              "      <td>5</td>\n",
              "      <td>Stage 2</td>\n",
              "      <td>4</td>\n",
              "      <td>10.25</td>\n",
              "      <td>1</td>\n",
              "      <td>1</td>\n",
              "      <td>1</td>\n",
              "      <td>Some college,  technical school or Associate D...</td>\n",
              "      <td>62.6</td>\n",
              "      <td>56.1</td>\n",
              "      <td>76.250</td>\n",
              "      <td>82.250000</td>\n",
              "      <td>1</td>\n",
              "      <td>5.349781</td>\n",
              "      <td>12.376667</td>\n",
              "      <td>142.443154</td>\n",
              "      <td>37.165193</td>\n",
              "      <td>50</td>\n",
              "    </tr>\n",
              "  </tbody>\n",
              "</table>\n",
              "</div>"
            ],
            "text/plain": [
              "   ParticipantNumber TumorStage  Neighborhood  Alcohol  Smoke  Insomnia  \\\n",
              "0                  1    Stage 2             4     8.25      0         0   \n",
              "1                  2    Stage 1             1    17.00      0         0   \n",
              "2                  3    Stage 1             2    25.50      0         0   \n",
              "3                  4    Stage 3             3     0.00      0         0   \n",
              "4                  5    Stage 2             4    10.25      1         1   \n",
              "\n",
              "   Depression                                          Education  Sleep1  \\\n",
              "0           0                      Postgraduate school or degree    44.2   \n",
              "1           1  Some college,  technical school or Associate D...    51.2   \n",
              "2           0                      Postgraduate school or degree    35.9   \n",
              "3           1  Some college,  technical school or Associate D...    56.3   \n",
              "4           1  Some college,  technical school or Associate D...    62.6   \n",
              "\n",
              "   Sleep2    QOLp       QOLm  Arthritis   Insulin        CRP          PA  \\\n",
              "0    38.7  86.875  93.250000          0  6.620323  14.662970  248.645687   \n",
              "1    43.6  76.250  81.625000          1  6.588302  15.086824  241.912148   \n",
              "2    38.7  58.750  79.625000          0  5.773663  16.045979  408.521245   \n",
              "3    52.9  26.875  37.958333          0  6.898928  16.312136  177.601267   \n",
              "4    56.1  76.250  82.250000          1  5.349781  12.376667  142.443154   \n",
              "\n",
              "         BMI  Age  \n",
              "0  29.387755   53  \n",
              "1  28.398718   67  \n",
              "2  20.077335   54  \n",
              "3  26.838648   66  \n",
              "4  37.165193   50  "
            ]
          },
          "metadata": {
            "tags": []
          },
          "execution_count": 54
        }
      ]
    },
    {
      "cell_type": "markdown",
      "metadata": {
        "id": "cA2IhWIWio50"
      },
      "source": [
        "## Bayesian Network"
      ]
    },
    {
      "cell_type": "code",
      "metadata": {
        "id": "l5MsLh1Fio51",
        "outputId": "ffe72bd4-cb40-4dfa-8f8a-8f17ea31a9e2"
      },
      "source": [
        "model=BayesianModel([('Arthritis','QOLp'), ('Arthritis','BMI'), ('BMI','CRP'),('BMI','Insulin'),('BMI','QOLp'),('Smoke','BMI'),('Insulin','PA'),('Sleep2','PA'),('Sleep2','QOLm'),('Sleep2','QOLp'),('Depression','Arthritis'),('Depression','Sleep2'),('Depression','QOLm'),('Depression','Sleep1'),('Insomnia','Depression'),('Insomnia','Sleep1')])\n",
        "model.fit(data, estimator=MaximumLikelihoodEstimator)\n",
        "fig, ax=plt.subplots(figsize=(9,7))\n",
        "positions={'PA':(2,1),'Sleep2':(3,2),'QOLm':(3,-1),'Sleep1':(4,-1),'Insomnia':(5,-1.5),'Depression':(4.5,1),'Arthritis':(4.5,3),'Sleep2':(3,2),'BMI':(3,4.5) ,'CRP':(2.5,5.5),'Smoke':(2,4.5),'Insulin':(2,3.5),'QOLp':(4.5,5.5)}\n",
        "nx.draw(model, pos=positions, with_labels=True, node_size=4000, font_size=20, arrowsize=20, node_color='yellow', ax=ax)"
      ],
      "execution_count": null,
      "outputs": [
        {
          "output_type": "display_data",
          "data": {
            "image/png": "[encoded data removed]",
            "text/plain": [
              "<Figure size 648x504 with 1 Axes>"
            ]
          },
          "metadata": {
            "tags": []
          }
        }
      ]
    },
    {
      "cell_type": "markdown",
      "metadata": {
        "id": "poVdugKLio59"
      },
      "source": [
        "<p style=\"font-family:Times New Roman; font-size:15px\">A first notable finding is that there\n",
        "were no edges from (or to) the following variables: tumor stage, years from diagnosis to study\n",
        "entry, neighborhood, education, alcohol intake and coping style (MB scale), indicating that\n",
        "these variables were (marginally) independent of all other factors.</p>\n",
        "\n",
        "<p style=\"font-family:Times New Roman; font-size:15px\"> Due to some reason plotting of 'Age' to this network was taking too much of time so I have skipped that node. It was actually supoosed to be connected with PA.</p>"
      ]
    },
    {
      "cell_type": "markdown",
      "metadata": {
        "id": "PF0dk2Enio6A"
      },
      "source": [
        "model.check_model()"
      ]
    },
    {
      "cell_type": "code",
      "metadata": {
        "id": "6UEtQzJHio6B",
        "outputId": "454cb15f-dcf8-4866-e653-f1d231c1832e"
      },
      "source": [
        "model.get_cpds()"
      ],
      "execution_count": null,
      "outputs": [
        {
          "output_type": "execute_result",
          "data": {
            "text/plain": [
              "[<TabularCPD representing P(Arthritis:2 | Depression:2) at 0x2de439c5c88>,\n",
              " <TabularCPD representing P(BMI:262 | Arthritis:2, Smoke:2) at 0x2de3bcf6e48>,\n",
              " <TabularCPD representing P(CRP:303 | BMI:262) at 0x2de439c5e10>,\n",
              " <TabularCPD representing P(Depression:2 | Insomnia:2) at 0x2de3aedd5c0>,\n",
              " <TabularCPD representing P(Insomnia:2) at 0x2de439c40b8>,\n",
              " <TabularCPD representing P(Insulin:303 | BMI:262) at 0x2de439c4550>,\n",
              " <TabularCPD representing P(PA:303 | Insulin:303, Sleep2:26) at 0x2de439c4f28>,\n",
              " <TabularCPD representing P(QOLm:214 | Depression:2, Sleep2:26) at 0x2de3bd07da0>,\n",
              " <TabularCPD representing P(QOLp:96 | Arthritis:2, BMI:262, Sleep2:26) at 0x2de24c521d0>,\n",
              " <TabularCPD representing P(Sleep1:32 | Depression:2, Insomnia:2) at 0x2de24cb55c0>,\n",
              " <TabularCPD representing P(Sleep2:26 | Depression:2) at 0x2de4348ac88>,\n",
              " <TabularCPD representing P(Smoke:2) at 0x2de3b5735c0>]"
            ]
          },
          "metadata": {
            "tags": []
          },
          "execution_count": 20
        }
      ]
    },
    {
      "cell_type": "markdown",
      "metadata": {
        "id": "w-j6vCPsio6L"
      },
      "source": [
        "## CPD"
      ]
    },
    {
      "cell_type": "code",
      "metadata": {
        "id": "tA_KMO1Qio6O",
        "outputId": "9cdbe8ff-e950-4a55-a735-fe20859cbb84"
      },
      "source": [
        "print(model.get_cpds('Smoke'))\n",
        "print(model.get_cpds('Insomnia'))\n",
        "print(model.get_cpds('Depression'))\n",
        "print(model.get_cpds('Sleep2'))\n",
        "\n"
      ],
      "execution_count": null,
      "outputs": [
        {
          "output_type": "stream",
          "text": [
            "+----------+----------+\n",
            "| Smoke(0) | 0.531353 |\n",
            "+----------+----------+\n",
            "| Smoke(1) | 0.468647 |\n",
            "+----------+----------+\n",
            "+-------------+----------+\n",
            "| Insomnia(0) | 0.706271 |\n",
            "+-------------+----------+\n",
            "| Insomnia(1) | 0.293729 |\n",
            "+-------------+----------+\n",
            "+---------------+--------------------+--------------------+\n",
            "| Insomnia      | Insomnia(0)        | Insomnia(1)        |\n",
            "+---------------+--------------------+--------------------+\n",
            "| Depression(0) | 0.6588785046728972 | 0.4157303370786517 |\n",
            "+---------------+--------------------+--------------------+\n",
            "| Depression(1) | 0.3411214953271028 | 0.5842696629213483 |\n",
            "+---------------+--------------------+--------------------+\n",
            "+--------------+-----------------------+---------------+\n",
            "| Depression   | Depression(0)         | Depression(1) |\n",
            "+--------------+-----------------------+---------------+\n",
            "| Sleep2(30.0) | 0.10112359550561797   | 0.032         |\n",
            "+--------------+-----------------------+---------------+\n",
            "| Sleep2(35.1) | 0.1404494382022472    | 0.016         |\n",
            "+--------------+-----------------------+---------------+\n",
            "| Sleep2(38.7) | 0.11235955056179775   | 0.04          |\n",
            "+--------------+-----------------------+---------------+\n",
            "| Sleep2(41.4) | 0.07303370786516854   | 0.056         |\n",
            "+--------------+-----------------------+---------------+\n",
            "| Sleep2(43.6) | 0.10674157303370786   | 0.088         |\n",
            "+--------------+-----------------------+---------------+\n",
            "| Sleep2(45.5) | 0.06741573033707865   | 0.104         |\n",
            "+--------------+-----------------------+---------------+\n",
            "| Sleep2(47.3) | 0.06179775280898876   | 0.064         |\n",
            "+--------------+-----------------------+---------------+\n",
            "| Sleep2(48.9) | 0.03932584269662921   | 0.08          |\n",
            "+--------------+-----------------------+---------------+\n",
            "| Sleep2(50.3) | 0.03932584269662921   | 0.056         |\n",
            "+--------------+-----------------------+---------------+\n",
            "| Sleep2(51.6) | 0.033707865168539325  | 0.056         |\n",
            "+--------------+-----------------------+---------------+\n",
            "| Sleep2(52.9) | 0.05056179775280899   | 0.064         |\n",
            "+--------------+-----------------------+---------------+\n",
            "| Sleep2(54.0) | 0.028089887640449437  | 0.048         |\n",
            "+--------------+-----------------------+---------------+\n",
            "| Sleep2(55.1) | 0.0449438202247191    | 0.04          |\n",
            "+--------------+-----------------------+---------------+\n",
            "| Sleep2(56.1) | 0.02247191011235955   | 0.056         |\n",
            "+--------------+-----------------------+---------------+\n",
            "| Sleep2(57.2) | 0.011235955056179775  | 0.032         |\n",
            "+--------------+-----------------------+---------------+\n",
            "| Sleep2(58.2) | 0.02247191011235955   | 0.032         |\n",
            "+--------------+-----------------------+---------------+\n",
            "| Sleep2(59.3) | 0.016853932584269662  | 0.024         |\n",
            "+--------------+-----------------------+---------------+\n",
            "| Sleep2(60.3) | 0.0056179775280898875 | 0.008         |\n",
            "+--------------+-----------------------+---------------+\n",
            "| Sleep2(61.3) | 0.0056179775280898875 | 0.016         |\n",
            "+--------------+-----------------------+---------------+\n",
            "| Sleep2(62.3) | 0.0                   | 0.008         |\n",
            "+--------------+-----------------------+---------------+\n",
            "| Sleep2(63.3) | 0.011235955056179775  | 0.016         |\n",
            "+--------------+-----------------------+---------------+\n",
            "| Sleep2(64.3) | 0.0                   | 0.024         |\n",
            "+--------------+-----------------------+---------------+\n",
            "| Sleep2(65.3) | 0.0056179775280898875 | 0.016         |\n",
            "+--------------+-----------------------+---------------+\n",
            "| Sleep2(66.3) | 0.0                   | 0.008         |\n",
            "+--------------+-----------------------+---------------+\n",
            "| Sleep2(67.3) | 0.0                   | 0.008         |\n",
            "+--------------+-----------------------+---------------+\n",
            "| Sleep2(70.7) | 0.0                   | 0.008         |\n",
            "+--------------+-----------------------+---------------+\n"
          ],
          "name": "stdout"
        }
      ]
    },
    {
      "cell_type": "markdown",
      "metadata": {
        "id": "WLoCKF3Iio6j"
      },
      "source": [
        "## Inferences"
      ]
    },
    {
      "cell_type": "code",
      "metadata": {
        "id": "86w1lSJRio6k",
        "outputId": "6780e25a-15d7-4006-a3a1-32913efb3ec0"
      },
      "source": [
        "inference = VariableElimination(model)\n",
        "# Query1: Will the patient be having ‘Depression’ given that the patient is surving from Insomnia?\n",
        "query1= inference.map_query(variables=['Depression'], evidence={'Insomnia': 1})\n",
        "print(query1)\n",
        "\n",
        "# Query2: What is probable value of BMI given that person has Arthritis and smokes?\n",
        "query2= inference.map_query(variables=['BMI'], evidence={'Arthritis': 1,'Smoke' : 1})\n",
        "print(query2)\n",
        "\n",
        "# Query3: What is the sleep routine of a person if we consider Quality of Life (physical and mental) as paramters?\n",
        "query3= inference.map_query(variables=['Sleep1'], evidence={'QOLp': 30,'QOLm' : 30})\n",
        "print(query3)\n",
        "#Higher scores indicate worse sleep \n",
        "\n",
        "# Query4: What is impact on physical activity due to poor sleep and higher insulin level\n",
        "query4 = inference.map_query(variables=['PA'], evidence={'Insulin': 6, 'Depression':1})\n",
        "print(query4)"
      ],
      "execution_count": null,
      "outputs": [
        {
          "output_type": "stream",
          "text": [
            "Finding Elimination Order: : 100%|███████████████████████████████████████████████████| 10/10 [00:00<00:00, 1431.55it/s]\n",
            "Eliminating: Sleep2: 100%|█████████████████████████████████████████████████████████████| 10/10 [00:00<00:00, 85.70it/s]\n"
          ],
          "name": "stderr"
        },
        {
          "output_type": "stream",
          "text": [
            "{'Depression': 1}\n"
          ],
          "name": "stdout"
        },
        {
          "output_type": "stream",
          "text": [
            "Finding Elimination Order: : 100%|█████████████████████████████████████████████████████| 9/9 [00:00<00:00, 1288.66it/s]\n",
            "Eliminating: Depression: 100%|███████████████████████████████████████████████████████████| 9/9 [00:00<00:00, 73.36it/s]\n"
          ],
          "name": "stderr"
        },
        {
          "output_type": "stream",
          "text": [
            "{'BMI': 28.515625}\n"
          ],
          "name": "stdout"
        },
        {
          "output_type": "stream",
          "text": [
            "Finding Elimination Order: : 100%|██████████████████████████████████████████████████████| 9/9 [00:00<00:00, 902.58it/s]\n",
            "Eliminating: Depression: 100%|███████████████████████████████████████████████████████████| 9/9 [00:00<00:00, 94.00it/s]\n"
          ],
          "name": "stderr"
        },
        {
          "output_type": "stream",
          "text": [
            "{'Sleep1': 47.9}\n"
          ],
          "name": "stdout"
        },
        {
          "output_type": "stream",
          "text": [
            "Finding Elimination Order: : 100%|██████████████████████████████████████████████████████| 9/9 [00:00<00:00, 751.83it/s]\n",
            "Eliminating: Sleep2: 100%|██████████████████████████████████████████████████████████████| 9/9 [00:00<00:00, 120.33it/s]"
          ],
          "name": "stderr"
        },
        {
          "output_type": "stream",
          "text": [
            "{'PA': 462.3070267}\n"
          ],
          "name": "stdout"
        },
        {
          "output_type": "stream",
          "text": [
            "\n"
          ],
          "name": "stderr"
        }
      ]
    },
    {
      "cell_type": "code",
      "metadata": {
        "id": "oLjBSNU_io6u",
        "outputId": "9c642538-3a1e-444a-86ec-b45ff8182e34"
      },
      "source": [
        "data = {'Query1': [[key for key in query1.keys()][0], [value for value in query1.values()][0]],\n",
        "        'Query2': [[key for key in query2.keys()][0], [value for value in query2.values()][0]],\n",
        "        'Query3': [[key for key in query3.keys()][0], [value for value in query3.values()][0]],\n",
        "        'Query4': [[key for key in query4.keys()][0], [value for value in query4.values()][0]]}\n",
        "\n",
        "result = pd.DataFrame(data)\n",
        "result.to_csv('output.csv', index=False)\n",
        "result"
      ],
      "execution_count": null,
      "outputs": [
        {
          "output_type": "execute_result",
          "data": {
            "text/html": [
              "<div>\n",
              "<style scoped>\n",
              "    .dataframe tbody tr th:only-of-type {\n",
              "        vertical-align: middle;\n",
              "    }\n",
              "\n",
              "    .dataframe tbody tr th {\n",
              "        vertical-align: top;\n",
              "    }\n",
              "\n",
              "    .dataframe thead th {\n",
              "        text-align: right;\n",
              "    }\n",
              "</style>\n",
              "<table border=\"1\" class=\"dataframe\">\n",
              "  <thead>\n",
              "    <tr style=\"text-align: right;\">\n",
              "      <th></th>\n",
              "      <th>Query1</th>\n",
              "      <th>Query2</th>\n",
              "      <th>Query3</th>\n",
              "      <th>Query4</th>\n",
              "    </tr>\n",
              "  </thead>\n",
              "  <tbody>\n",
              "    <tr>\n",
              "      <th>0</th>\n",
              "      <td>Depression</td>\n",
              "      <td>BMI</td>\n",
              "      <td>Sleep1</td>\n",
              "      <td>PA</td>\n",
              "    </tr>\n",
              "    <tr>\n",
              "      <th>1</th>\n",
              "      <td>1</td>\n",
              "      <td>28.5156</td>\n",
              "      <td>47.9</td>\n",
              "      <td>462.307</td>\n",
              "    </tr>\n",
              "  </tbody>\n",
              "</table>\n",
              "</div>"
            ],
            "text/plain": [
              "       Query1   Query2  Query3   Query4\n",
              "0  Depression      BMI  Sleep1       PA\n",
              "1           1  28.5156    47.9  462.307"
            ]
          },
          "metadata": {
            "tags": []
          },
          "execution_count": 51
        }
      ]
    },
    {
      "cell_type": "markdown",
      "metadata": {
        "id": "S54sSxOxio62"
      },
      "source": [
        "## Derived Inferences\n"
      ]
    },
    {
      "cell_type": "markdown",
      "metadata": {
        "id": "_jzFQZpBio63"
      },
      "source": [
        "<ol>\n",
        "<li>The person will be suffering from depression if he/she has insomnia.</li>\n",
        "<li>If BMI is in range of 25-29 then the person is overweight which is cause several other impairments in Breast Cancer</li>\n",
        "<li>Low quality if lifestyle leads to sleep problems resulting greater sleep score.\n",
        "<li>BMI has strong positive association with insulin and hence, BMI is indirectly inversely proportional to Physical Activity</li>\n",
        "</ol>"
      ]
    }
  ]
}